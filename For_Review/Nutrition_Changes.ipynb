{
 "cells": [
  {
   "cell_type": "code",
   "execution_count": 28,
   "id": "4907f1f3-798b-4f93-9e12-ddc689cc3266",
   "metadata": {},
   "outputs": [
    {
     "name": "stdout",
     "output_type": "stream",
     "text": [
      "Requirement already satisfied: CFEDemands in /srv/conda/lib/python3.9/site-packages (0.6.1)\n",
      "Requirement already satisfied: matplotlib>=3.5.1 in /srv/conda/lib/python3.9/site-packages (from CFEDemands) (3.7.3)\n",
      "Requirement already satisfied: scipy>=1.7.3 in /srv/conda/lib/python3.9/site-packages (from CFEDemands) (1.10.0)\n",
      "Requirement already satisfied: joblib>=1.1.0 in /srv/conda/lib/python3.9/site-packages (from CFEDemands) (1.4.0)\n",
      "Requirement already satisfied: pandas>=1.4.2 in /srv/conda/lib/python3.9/site-packages (from CFEDemands) (2.2.2)\n",
      "Requirement already satisfied: ConsumerDemands>=0.3.dev0 in /srv/conda/lib/python3.9/site-packages (from CFEDemands) (0.4.2.dev0)\n",
      "Requirement already satisfied: statsmodels>=0.13.2 in /srv/conda/lib/python3.9/site-packages (from CFEDemands) (0.13.5)\n",
      "Requirement already satisfied: ray>=2.0.0 in /srv/conda/lib/python3.9/site-packages (from CFEDemands) (2.12.0)\n",
      "Requirement already satisfied: xarray>=0.20.1 in /srv/conda/lib/python3.9/site-packages (from CFEDemands) (2024.3.0)\n",
      "Requirement already satisfied: numpy>=1.21.5 in /srv/conda/lib/python3.9/site-packages (from CFEDemands) (1.26.4)\n",
      "Requirement already satisfied: dvc>=2.18.1 in /srv/conda/lib/python3.9/site-packages (from CFEDemands) (3.50.1)\n",
      "Requirement already satisfied: pytest>=7.1.1 in /srv/conda/lib/python3.9/site-packages (from CFEDemands) (7.4.4)\n",
      "Requirement already satisfied: iterative-telemetry>=0.0.7 in /srv/conda/lib/python3.9/site-packages (from dvc>=2.18.1->CFEDemands) (0.0.8)\n",
      "Requirement already satisfied: dvc-studio-client<1,>=0.20 in /srv/conda/lib/python3.9/site-packages (from dvc>=2.18.1->CFEDemands) (0.20.0)\n",
      "Requirement already satisfied: dvc-http>=2.29.0 in /srv/conda/lib/python3.9/site-packages (from dvc>=2.18.1->CFEDemands) (2.32.0)\n",
      "Requirement already satisfied: networkx>=2.5 in /srv/conda/lib/python3.9/site-packages (from dvc>=2.18.1->CFEDemands) (2.6.3)\n",
      "Requirement already satisfied: attrs>=22.2.0 in /srv/conda/lib/python3.9/site-packages (from dvc>=2.18.1->CFEDemands) (23.2.0)\n",
      "Requirement already satisfied: shortuuid>=0.5 in /srv/conda/lib/python3.9/site-packages (from dvc>=2.18.1->CFEDemands) (1.0.13)\n",
      "Requirement already satisfied: requests>=2.22 in /srv/conda/lib/python3.9/site-packages (from dvc>=2.18.1->CFEDemands) (2.31.0)\n",
      "Requirement already satisfied: zc.lockfile>=1.2.1 in /srv/conda/lib/python3.9/site-packages (from dvc>=2.18.1->CFEDemands) (3.0.post1)\n",
      "Requirement already satisfied: tomlkit>=0.11.1 in /srv/conda/lib/python3.9/site-packages (from dvc>=2.18.1->CFEDemands) (0.12.4)\n",
      "Requirement already satisfied: pyparsing>=2.4.7 in /srv/conda/lib/python3.9/site-packages (from dvc>=2.18.1->CFEDemands) (3.1.2)\n",
      "Requirement already satisfied: dvc-render<2,>=1.0.1 in /srv/conda/lib/python3.9/site-packages (from dvc>=2.18.1->CFEDemands) (1.0.2)\n",
      "Requirement already satisfied: gto<2,>=1.6.0 in /srv/conda/lib/python3.9/site-packages (from dvc>=2.18.1->CFEDemands) (1.7.1)\n",
      "Requirement already satisfied: dpath<3,>=2.1.0 in /srv/conda/lib/python3.9/site-packages (from dvc>=2.18.1->CFEDemands) (2.1.6)\n",
      "Requirement already satisfied: dvc-task<1,>=0.3.0 in /srv/conda/lib/python3.9/site-packages (from dvc>=2.18.1->CFEDemands) (0.4.0)\n",
      "Requirement already satisfied: packaging>=19 in /srv/conda/lib/python3.9/site-packages (from dvc>=2.18.1->CFEDemands) (24.0)\n",
      "Requirement already satisfied: pydot>=1.2.4 in /srv/conda/lib/python3.9/site-packages (from dvc>=2.18.1->CFEDemands) (2.0.0)\n",
      "Requirement already satisfied: scmrepo<4,>=3.3.2 in /srv/conda/lib/python3.9/site-packages (from dvc>=2.18.1->CFEDemands) (3.3.2)\n",
      "Requirement already satisfied: ruamel.yaml>=0.17.11 in /srv/conda/lib/python3.9/site-packages (from dvc>=2.18.1->CFEDemands) (0.17.40)\n",
      "Requirement already satisfied: tabulate>=0.8.7 in /srv/conda/lib/python3.9/site-packages (from dvc>=2.18.1->CFEDemands) (0.9.0)\n",
      "Requirement already satisfied: flufl.lock<8,>=5 in /srv/conda/lib/python3.9/site-packages (from dvc>=2.18.1->CFEDemands) (7.1.1)\n",
      "Requirement already satisfied: celery in /srv/conda/lib/python3.9/site-packages (from dvc>=2.18.1->CFEDemands) (5.4.0)\n",
      "Requirement already satisfied: psutil>=5.8 in /srv/conda/lib/python3.9/site-packages (from dvc>=2.18.1->CFEDemands) (5.9.8)\n",
      "Requirement already satisfied: hydra-core>=1.1 in /srv/conda/lib/python3.9/site-packages (from dvc>=2.18.1->CFEDemands) (1.3.2)\n",
      "Requirement already satisfied: dvc-data<3.16,>=3.15 in /srv/conda/lib/python3.9/site-packages (from dvc>=2.18.1->CFEDemands) (3.15.1)\n",
      "Requirement already satisfied: funcy>=1.14 in /srv/conda/lib/python3.9/site-packages (from dvc>=2.18.1->CFEDemands) (2.0)\n",
      "Requirement already satisfied: grandalf<1,>=0.7 in /srv/conda/lib/python3.9/site-packages (from dvc>=2.18.1->CFEDemands) (0.8)\n",
      "Requirement already satisfied: fsspec in /srv/conda/lib/python3.9/site-packages (from dvc>=2.18.1->CFEDemands) (2024.3.1)\n",
      "Requirement already satisfied: dvc-objects in /srv/conda/lib/python3.9/site-packages (from dvc>=2.18.1->CFEDemands) (5.1.0)\n",
      "Requirement already satisfied: flatten-dict<1,>=0.4.1 in /srv/conda/lib/python3.9/site-packages (from dvc>=2.18.1->CFEDemands) (0.4.2)\n",
      "Requirement already satisfied: omegaconf in /srv/conda/lib/python3.9/site-packages (from dvc>=2.18.1->CFEDemands) (2.3.0)\n",
      "Requirement already satisfied: voluptuous>=0.11.7 in /srv/conda/lib/python3.9/site-packages (from dvc>=2.18.1->CFEDemands) (0.14.2)\n",
      "Requirement already satisfied: dulwich in /srv/conda/lib/python3.9/site-packages (from dvc>=2.18.1->CFEDemands) (0.22.1)\n",
      "Requirement already satisfied: platformdirs<4,>=3.1.1 in /srv/conda/lib/python3.9/site-packages (from dvc>=2.18.1->CFEDemands) (3.11.0)\n",
      "Requirement already satisfied: colorama>=0.3.9 in /srv/conda/lib/python3.9/site-packages (from dvc>=2.18.1->CFEDemands) (0.4.6)\n",
      "Requirement already satisfied: pygtrie>=2.3.2 in /srv/conda/lib/python3.9/site-packages (from dvc>=2.18.1->CFEDemands) (2.5.0)\n",
      "Requirement already satisfied: tqdm<5,>=4.63.1 in /srv/conda/lib/python3.9/site-packages (from dvc>=2.18.1->CFEDemands) (4.65.0)\n",
      "Requirement already satisfied: distro>=1.3 in /srv/conda/lib/python3.9/site-packages (from dvc>=2.18.1->CFEDemands) (1.9.0)\n",
      "Requirement already satisfied: kombu in /srv/conda/lib/python3.9/site-packages (from dvc>=2.18.1->CFEDemands) (5.3.7)\n",
      "Requirement already satisfied: pathspec>=0.10.3 in /srv/conda/lib/python3.9/site-packages (from dvc>=2.18.1->CFEDemands) (0.12.1)\n",
      "Requirement already satisfied: shtab<2,>=1.3.4 in /srv/conda/lib/python3.9/site-packages (from dvc>=2.18.1->CFEDemands) (1.7.1)\n",
      "Requirement already satisfied: rich>=12 in /srv/conda/lib/python3.9/site-packages (from dvc>=2.18.1->CFEDemands) (13.7.1)\n",
      "Requirement already satisfied: configobj>=5.0.6 in /srv/conda/lib/python3.9/site-packages (from dvc>=2.18.1->CFEDemands) (5.0.8)\n",
      "Requirement already satisfied: kiwisolver>=1.0.1 in /srv/conda/lib/python3.9/site-packages (from matplotlib>=3.5.1->CFEDemands) (1.4.5)\n",
      "Requirement already satisfied: importlib-resources>=3.2.0 in /srv/conda/lib/python3.9/site-packages (from matplotlib>=3.5.1->CFEDemands) (6.4.0)\n",
      "Requirement already satisfied: pillow>=6.2.0 in /srv/conda/lib/python3.9/site-packages (from matplotlib>=3.5.1->CFEDemands) (8.3.2)\n",
      "Requirement already satisfied: fonttools>=4.22.0 in /srv/conda/lib/python3.9/site-packages (from matplotlib>=3.5.1->CFEDemands) (4.51.0)\n",
      "Requirement already satisfied: python-dateutil>=2.7 in /srv/conda/lib/python3.9/site-packages (from matplotlib>=3.5.1->CFEDemands) (2.9.0)\n",
      "Requirement already satisfied: cycler>=0.10 in /srv/conda/lib/python3.9/site-packages (from matplotlib>=3.5.1->CFEDemands) (0.12.1)\n",
      "Requirement already satisfied: contourpy>=1.0.1 in /srv/conda/lib/python3.9/site-packages (from matplotlib>=3.5.1->CFEDemands) (1.2.1)\n",
      "Requirement already satisfied: pytz>=2020.1 in /srv/conda/lib/python3.9/site-packages (from pandas>=1.4.2->CFEDemands) (2024.1)\n",
      "Requirement already satisfied: tzdata>=2022.7 in /srv/conda/lib/python3.9/site-packages (from pandas>=1.4.2->CFEDemands) (2024.1)\n",
      "Requirement already satisfied: exceptiongroup>=1.0.0rc8 in /srv/conda/lib/python3.9/site-packages (from pytest>=7.1.1->CFEDemands) (1.2.0)\n",
      "Requirement already satisfied: pluggy<2.0,>=0.12 in /srv/conda/lib/python3.9/site-packages (from pytest>=7.1.1->CFEDemands) (1.0.0)\n",
      "Requirement already satisfied: iniconfig in /srv/conda/lib/python3.9/site-packages (from pytest>=7.1.1->CFEDemands) (2.0.0)\n",
      "Requirement already satisfied: tomli>=1.0.0 in /srv/conda/lib/python3.9/site-packages (from pytest>=7.1.1->CFEDemands) (2.0.1)\n",
      "Requirement already satisfied: msgpack<2.0.0,>=1.0.0 in /srv/conda/lib/python3.9/site-packages (from ray>=2.0.0->CFEDemands) (1.0.8)\n",
      "Requirement already satisfied: click>=7.0 in /srv/conda/lib/python3.9/site-packages (from ray>=2.0.0->CFEDemands) (8.1.7)\n",
      "Requirement already satisfied: jsonschema in /srv/conda/lib/python3.9/site-packages (from ray>=2.0.0->CFEDemands) (4.21.1)\n",
      "Requirement already satisfied: aiosignal in /srv/conda/lib/python3.9/site-packages (from ray>=2.0.0->CFEDemands) (1.3.1)\n",
      "Requirement already satisfied: frozenlist in /srv/conda/lib/python3.9/site-packages (from ray>=2.0.0->CFEDemands) (1.4.1)\n",
      "Requirement already satisfied: protobuf!=3.19.5,>=3.15.3 in /srv/conda/lib/python3.9/site-packages (from ray>=2.0.0->CFEDemands) (4.25.3)\n",
      "Requirement already satisfied: filelock in /srv/conda/lib/python3.9/site-packages (from ray>=2.0.0->CFEDemands) (3.13.4)\n",
      "Requirement already satisfied: pyyaml in /srv/conda/lib/python3.9/site-packages (from ray>=2.0.0->CFEDemands) (6.0.1)\n",
      "Requirement already satisfied: patsy>=0.5.2 in /srv/conda/lib/python3.9/site-packages (from statsmodels>=0.13.2->CFEDemands) (0.5.6)\n",
      "Requirement already satisfied: six in /srv/conda/lib/python3.9/site-packages (from configobj>=5.0.6->dvc>=2.18.1->CFEDemands) (1.16.0)\n",
      "Requirement already satisfied: diskcache>=5.2.1 in /srv/conda/lib/python3.9/site-packages (from dvc-data<3.16,>=3.15->dvc>=2.18.1->CFEDemands) (5.6.3)\n",
      "Requirement already satisfied: dictdiffer>=0.8.1 in /srv/conda/lib/python3.9/site-packages (from dvc-data<3.16,>=3.15->dvc>=2.18.1->CFEDemands) (0.9.0)\n",
      "Requirement already satisfied: sqltrie<1,>=0.11.0 in /srv/conda/lib/python3.9/site-packages (from dvc-data<3.16,>=3.15->dvc>=2.18.1->CFEDemands) (0.11.0)\n",
      "Requirement already satisfied: aiohttp-retry>=2.5.0 in /srv/conda/lib/python3.9/site-packages (from dvc-http>=2.29.0->dvc>=2.18.1->CFEDemands) (2.8.3)\n",
      "Requirement already satisfied: click-plugins>=1.1.1 in /srv/conda/lib/python3.9/site-packages (from celery->dvc>=2.18.1->CFEDemands) (1.1.1)\n",
      "Requirement already satisfied: click-didyoumean>=0.3.0 in /srv/conda/lib/python3.9/site-packages (from celery->dvc>=2.18.1->CFEDemands) (0.3.1)\n",
      "Requirement already satisfied: billiard<5.0,>=4.2.0 in /srv/conda/lib/python3.9/site-packages (from celery->dvc>=2.18.1->CFEDemands) (4.2.0)\n",
      "Requirement already satisfied: vine<6.0,>=5.1.0 in /srv/conda/lib/python3.9/site-packages (from celery->dvc>=2.18.1->CFEDemands) (5.1.0)\n",
      "Requirement already satisfied: click-repl>=0.2.0 in /srv/conda/lib/python3.9/site-packages (from celery->dvc>=2.18.1->CFEDemands) (0.3.0)\n",
      "Requirement already satisfied: atpublic>=2.3 in /srv/conda/lib/python3.9/site-packages (from flufl.lock<8,>=5->dvc>=2.18.1->CFEDemands) (4.1.0)\n",
      "Requirement already satisfied: typer>=0.4.1 in /srv/conda/lib/python3.9/site-packages (from gto<2,>=1.6.0->dvc>=2.18.1->CFEDemands) (0.4.2)\n",
      "Requirement already satisfied: entrypoints in /srv/conda/lib/python3.9/site-packages (from gto<2,>=1.6.0->dvc>=2.18.1->CFEDemands) (0.4)\n",
      "Requirement already satisfied: pydantic!=2.0.0,<3,>=1.9.0 in /srv/conda/lib/python3.9/site-packages (from gto<2,>=1.6.0->dvc>=2.18.1->CFEDemands) (1.9.2)\n",
      "Requirement already satisfied: semver>=2.13.0 in /srv/conda/lib/python3.9/site-packages (from gto<2,>=1.6.0->dvc>=2.18.1->CFEDemands) (3.0.2)\n",
      "Requirement already satisfied: antlr4-python3-runtime==4.9.* in /srv/conda/lib/python3.9/site-packages (from hydra-core>=1.1->dvc>=2.18.1->CFEDemands) (4.9.3)\n",
      "Requirement already satisfied: zipp>=3.1.0 in /srv/conda/lib/python3.9/site-packages (from importlib-resources>=3.2.0->matplotlib>=3.5.1->CFEDemands) (3.17.0)\n",
      "Requirement already satisfied: appdirs in /srv/conda/lib/python3.9/site-packages (from iterative-telemetry>=0.0.7->dvc>=2.18.1->CFEDemands) (1.4.4)\n",
      "Requirement already satisfied: typing-extensions in /srv/conda/lib/python3.9/site-packages (from kombu->dvc>=2.18.1->CFEDemands) (4.11.0)\n",
      "Requirement already satisfied: amqp<6.0.0,>=5.1.1 in /srv/conda/lib/python3.9/site-packages (from kombu->dvc>=2.18.1->CFEDemands) (5.2.0)\n",
      "Requirement already satisfied: charset-normalizer<4,>=2 in /srv/conda/lib/python3.9/site-packages (from requests>=2.22->dvc>=2.18.1->CFEDemands) (3.1.0)\n",
      "Requirement already satisfied: certifi>=2017.4.17 in /srv/conda/lib/python3.9/site-packages (from requests>=2.22->dvc>=2.18.1->CFEDemands) (2022.12.7)\n",
      "Requirement already satisfied: idna<4,>=2.5 in /srv/conda/lib/python3.9/site-packages (from requests>=2.22->dvc>=2.18.1->CFEDemands) (3.4)\n",
      "Requirement already satisfied: urllib3<3,>=1.21.1 in /srv/conda/lib/python3.9/site-packages (from requests>=2.22->dvc>=2.18.1->CFEDemands) (1.26.15)\n",
      "Requirement already satisfied: markdown-it-py>=2.2.0 in /srv/conda/lib/python3.9/site-packages (from rich>=12->dvc>=2.18.1->CFEDemands) (3.0.0)\n",
      "Requirement already satisfied: pygments<3.0.0,>=2.13.0 in /srv/conda/lib/python3.9/site-packages (from rich>=12->dvc>=2.18.1->CFEDemands) (2.17.2)\n",
      "Requirement already satisfied: ruamel.yaml.clib>=0.2.7 in /srv/conda/lib/python3.9/site-packages (from ruamel.yaml>=0.17.11->dvc>=2.18.1->CFEDemands) (0.2.8)\n",
      "Requirement already satisfied: gitpython>3 in /srv/conda/lib/python3.9/site-packages (from scmrepo<4,>=3.3.2->dvc>=2.18.1->CFEDemands) (3.1.43)\n",
      "Requirement already satisfied: pygit2>=1.14.0 in /srv/conda/lib/python3.9/site-packages (from scmrepo<4,>=3.3.2->dvc>=2.18.1->CFEDemands) (1.14.1)\n",
      "Requirement already satisfied: asyncssh<3,>=2.13.1 in /srv/conda/lib/python3.9/site-packages (from scmrepo<4,>=3.3.2->dvc>=2.18.1->CFEDemands) (2.14.2)\n",
      "Requirement already satisfied: setuptools in /srv/conda/lib/python3.9/site-packages (from zc.lockfile>=1.2.1->dvc>=2.18.1->CFEDemands) (59.8.0)\n",
      "Requirement already satisfied: rpds-py>=0.7.1 in /srv/conda/lib/python3.9/site-packages (from jsonschema->ray>=2.0.0->CFEDemands) (0.18.0)\n",
      "Requirement already satisfied: jsonschema-specifications>=2023.03.6 in /srv/conda/lib/python3.9/site-packages (from jsonschema->ray>=2.0.0->CFEDemands) (2023.12.1)\n",
      "Requirement already satisfied: referencing>=0.28.4 in /srv/conda/lib/python3.9/site-packages (from jsonschema->ray>=2.0.0->CFEDemands) (0.34.0)\n",
      "Requirement already satisfied: aiohttp in /srv/conda/lib/python3.9/site-packages (from aiohttp-retry>=2.5.0->dvc-http>=2.29.0->dvc>=2.18.1->CFEDemands) (3.9.3)\n",
      "Requirement already satisfied: cryptography>=39.0 in /srv/conda/lib/python3.9/site-packages (from asyncssh<3,>=2.13.1->scmrepo<4,>=3.3.2->dvc>=2.18.1->CFEDemands) (39.0.0)\n",
      "Requirement already satisfied: prompt-toolkit>=3.0.36 in /srv/conda/lib/python3.9/site-packages (from click-repl>=0.2.0->celery->dvc>=2.18.1->CFEDemands) (3.0.42)\n",
      "Requirement already satisfied: gitdb<5,>=4.0.1 in /srv/conda/lib/python3.9/site-packages (from gitpython>3->scmrepo<4,>=3.3.2->dvc>=2.18.1->CFEDemands) (4.0.11)\n",
      "Requirement already satisfied: mdurl~=0.1 in /srv/conda/lib/python3.9/site-packages (from markdown-it-py>=2.2.0->rich>=12->dvc>=2.18.1->CFEDemands) (0.1.2)\n",
      "Requirement already satisfied: cffi>=1.16.0 in /srv/conda/lib/python3.9/site-packages (from pygit2>=1.14.0->scmrepo<4,>=3.3.2->dvc>=2.18.1->CFEDemands) (1.16.0)\n",
      "Requirement already satisfied: orjson in /srv/conda/lib/python3.9/site-packages (from sqltrie<1,>=0.11.0->dvc-data<3.16,>=3.15->dvc>=2.18.1->CFEDemands) (3.10.2)\n",
      "Requirement already satisfied: yarl<2.0,>=1.0 in /srv/conda/lib/python3.9/site-packages (from aiohttp->aiohttp-retry>=2.5.0->dvc-http>=2.29.0->dvc>=2.18.1->CFEDemands) (1.9.4)\n",
      "Requirement already satisfied: multidict<7.0,>=4.5 in /srv/conda/lib/python3.9/site-packages (from aiohttp->aiohttp-retry>=2.5.0->dvc-http>=2.29.0->dvc>=2.18.1->CFEDemands) (6.0.5)\n",
      "Requirement already satisfied: async-timeout<5.0,>=4.0 in /srv/conda/lib/python3.9/site-packages (from aiohttp->aiohttp-retry>=2.5.0->dvc-http>=2.29.0->dvc>=2.18.1->CFEDemands) (4.0.3)\n",
      "Requirement already satisfied: pycparser in /srv/conda/lib/python3.9/site-packages (from cffi>=1.16.0->pygit2>=1.14.0->scmrepo<4,>=3.3.2->dvc>=2.18.1->CFEDemands) (2.21)\n",
      "Requirement already satisfied: smmap<6,>=3.0.1 in /srv/conda/lib/python3.9/site-packages (from gitdb<5,>=4.0.1->gitpython>3->scmrepo<4,>=3.3.2->dvc>=2.18.1->CFEDemands) (5.0.1)\n",
      "Requirement already satisfied: wcwidth in /srv/conda/lib/python3.9/site-packages (from prompt-toolkit>=3.0.36->click-repl>=0.2.0->celery->dvc>=2.18.1->CFEDemands) (0.2.13)\n"
     ]
    }
   ],
   "source": [
    "!pip install CFEDemands\n",
    "\n",
    "import cfe\n",
    "import numpy as np\n",
    "import pandas as pd\n",
    "import matplotlib.pyplot as plt"
   ]
  },
  {
   "cell_type": "markdown",
   "id": "27bf41c6-3815-4864-bcb9-7afd4ace1ad6",
   "metadata": {},
   "source": [
    "# Team David Zilberman: Price Change Calcium Nutrition Analysis\n",
    "\n",
    "#### Hello! \n",
    "Goal for this piece of analysis: analyzing changes in nutrition distributions for changes in price. The main policy instrument we are proposing is an import subsidy for Milk, based on the lack of calcium available in Tanzania and the subsequently devastating health effects. In this notebook, I'll provide some backing for our choice to look at Calcium specifically, and then work through a process trying to estimate population changes. Things are still in the works, and appreciate any feedback/ideas/thoughts you may have! \n",
    "\n",
    "#### Acknowledgement: \n",
    "We are using data-sets for Tanzania and some code graciously shared by Project 3's Stanley Jevons group, specifically Vishali. She is awesome and a very talented coder."
   ]
  },
  {
   "cell_type": "code",
   "execution_count": 29,
   "id": "2dcb6d48-5dd0-4417-9767-99f823e79c07",
   "metadata": {},
   "outputs": [
    {
     "data": {
      "text/plain": [
       "'/home/jovyan/DavidZilberman/For_Review'"
      ]
     },
     "execution_count": 29,
     "metadata": {},
     "output_type": "execute_result"
    }
   ],
   "source": [
    "pwd"
   ]
  },
  {
   "cell_type": "markdown",
   "id": "2cb304b4-9cf4-4c8f-96e1-3208a2bf0963",
   "metadata": {},
   "source": [
    "#### Load in Datasets and Reformat Indices"
   ]
  },
  {
   "cell_type": "code",
   "execution_count": 30,
   "id": "d950c0c7-9db0-4c49-9cbc-92a212a927ad",
   "metadata": {},
   "outputs": [],
   "source": [
    "# Reading the food expenditures dataset for Tanzania\n",
    "x_tanzania = pd.read_csv(\"Data/Tanzania [Reformatted] - Food Expenditures (2019-20).csv\")\n",
    "\n",
    "# If the 'm' column is not present, add it and set its values to 1\n",
    "if 'm' not in x_tanzania.columns:\n",
    "    x_tanzania['m'] = 1\n",
    "\n",
    "# Setting a multi-level index\n",
    "x_tanzania = x_tanzania.set_index(['i', 't', 'm'])\n",
    "x_tanzania.columns.name = 'j'\n",
    "\n",
    "# Converting all columns to numeric, coercing errors to NaN\n",
    "x_tanzania = x_tanzania.apply(lambda x: pd.to_numeric(x, errors='coerce'))\n",
    "\n",
    "# Replacing 0 values with NaN\n",
    "x_tanzania = x_tanzania.replace(0, np.nan)\n",
    "\n",
    "# Reading the household characteristics dataset for Tanzania\n",
    "z_tanzania = pd.read_csv(\"Data/Tanzania [Reformatted] - Household Characteristics (2019-20).csv\")\n",
    "\n",
    "# If the 'm' column is not present, add it\n",
    "if 'm' not in z_tanzania.columns:\n",
    "    z_tanzania['m'] = 1\n",
    "\n",
    "# Setting a multi-level index\n",
    "z_tanzania = z_tanzania.set_index(['i', 't', 'm'])\n",
    "z_tanzania.columns.name = 'k'\n",
    "\n",
    "# Converting all columns to numeric, coercing errors to NaN\n",
    "z_tanzania = z_tanzania.apply(lambda x: pd.to_numeric(x, errors='coerce'))\n",
    "\n",
    "# Assuming the 'new.csv' file is related to Tanzania's price data. The original naming wasn't clear.\n",
    "p_tanzania = pd.read_csv(\"Data/new.csv\")\n",
    "\n",
    "# If the 'm' column is not present, add it\n",
    "if 'm' not in p_tanzania.columns:\n",
    "    p_tanzania['m'] = 1\n",
    "\n",
    "# Setting a multi-level index\n",
    "p_tanzania = p_tanzania.set_index(['t', 'm'])\n",
    "p_tanzania.columns.name = 'j'\n",
    "\n",
    "# Converting all columns to numeric, coercing errors to NaN\n",
    "p_tanzania = p_tanzania.apply(lambda x: pd.to_numeric(x, errors='coerce'))\n",
    "\n",
    "# Replacing 0 values with NaN\n",
    "p_tanzania = p_tanzania.replace(0, np.nan)\n",
    "\n",
    "# Reading the Food Consumption Table (FCT) for Tanzania\n",
    "fct_tanzania = pd.read_csv(\"Data/Tanzania [Reformatted] - FCT.csv\")\n",
    "\n",
    "rdi_tanzania = pd.read_csv(\"Data/Uganda - RDI.csv\")\n",
    "\n",
    "# Setting 'j' as the index\n",
    "fct_tanzania = fct_tanzania.set_index('j')\n",
    "fct_tanzania.columns.name = 'n'\n",
    "\n",
    "# Converting all columns to numeric, coercing errors to NaN\n",
    "fct_tanzania = fct_tanzania.apply(lambda x: pd.to_numeric(x, errors='coerce'))\n",
    "\n",
    "# Setting 'n' as the index\n",
    "rdi_tanzania = rdi_tanzania.set_index('n')\n",
    "rdi_tanzania.columns.name = 'k'\n",
    "\n",
    "# Running the CFE (Cost of Basic Needs) regression for Tanzania\n",
    "result_tanzania = cfe.Regression(y=np.log(x_tanzania.stack()), d=z_tanzania)"
   ]
  },
  {
   "cell_type": "markdown",
   "id": "826c0f8e-8fc3-460e-9b5a-32c0c633f880",
   "metadata": {},
   "source": [
    "#### Get predicted expenditures and translate to estimate for nutritional consumption in Tanzania"
   ]
  },
  {
   "cell_type": "code",
   "execution_count": 31,
   "id": "a2a69bef-20b4-4581-bce4-a26eb457ee73",
   "metadata": {},
   "outputs": [],
   "source": [
    "xhat = result_tanzania.predicted_expenditures() # expenditure\n",
    "\n",
    "qhat = (xhat.unstack('j')/p_tanzania).dropna(how='all') # grab quantities\n",
    "\n",
    "qhat = qhat.loc[:,qhat.count()>0] # get all for > 0 \n",
    "\n",
    "use = fct_tanzania.index.intersection(qhat.columns) # only use same food indices \n",
    "\n",
    "nutrients = qhat[use]@fct_tanzania.loc[use,:] # select same nutrients as FCT\n",
    "nutrients.mean() \n",
    "\n",
    "z = z_tanzania[rdi_tanzania.columns.tolist()] # household characteristics \n",
    "\n",
    "hh_rdi = z@rdi_tanzania.T # matrix multiply households by RDI\n",
    "\n",
    "hh_rwi = hh_rdi*7 # translate for RDI\n",
    "\n",
    "use_nutrients = nutrients.columns.intersection(hh_rwi.columns) # use same indices\n",
    "\n",
    "nutrient_ratio_tanzania = (nutrients[use_nutrients]/hh_rwi[use_nutrients]).dropna() # get nutrient ratios"
   ]
  },
  {
   "cell_type": "markdown",
   "id": "e9db2d89-fc95-4130-8c02-680569b1fe54",
   "metadata": {},
   "source": [
    "#### Wanted to look at the averages, just to see which nutrient was lowest."
   ]
  },
  {
   "cell_type": "code",
   "execution_count": 32,
   "id": "88e682f6-d9dd-4bef-9f2e-09cc62039ed9",
   "metadata": {},
   "outputs": [
    {
     "name": "stdout",
     "output_type": "stream",
     "text": [
      "Nutrient Ratios in Tanzania: \n",
      "n\n",
      "Carbohydrate    3.687684\n",
      "Vitamin B-6     1.765379\n",
      "Protein         1.753266\n",
      "Energy          1.529042\n",
      "Vitamin B-12    1.500087\n",
      "Niacin          1.323610\n",
      "Thiamin         1.227067\n",
      "Zinc            1.052872\n",
      "Riboflavin      1.033971\n",
      "Iron            0.953520\n",
      "Vitamin C       0.827692\n",
      "Fiber           0.788032\n",
      "Folate          0.716731\n",
      "Vitamin A       0.420803\n",
      "Calcium         0.355245\n",
      "dtype: float64\n"
     ]
    }
   ],
   "source": [
    "averages = nutrient_ratio_tanzania.mean()\n",
    "sorted_averages = averages.sort_values(ascending=False)\n",
    "print(f'Nutrient Ratios in Tanzania: \\n' + str(sorted_averages))"
   ]
  },
  {
   "cell_type": "markdown",
   "id": "c6c31881-113d-47e2-a67c-d54b10f6b744",
   "metadata": {},
   "source": [
    "As we can see, this averaged set's lowest nutritional requirement based on the RDI is Calcium. Now, let's identify foods that we can use to approach this calcium deficiency. "
   ]
  },
  {
   "cell_type": "code",
   "execution_count": 33,
   "id": "9fe64199-222b-4d14-9f4f-df03598980a3",
   "metadata": {},
   "outputs": [
    {
     "data": {
      "text/html": [
       "<div>\n",
       "<style scoped>\n",
       "    .dataframe tbody tr th:only-of-type {\n",
       "        vertical-align: middle;\n",
       "    }\n",
       "\n",
       "    .dataframe tbody tr th {\n",
       "        vertical-align: top;\n",
       "    }\n",
       "\n",
       "    .dataframe thead th {\n",
       "        text-align: right;\n",
       "    }\n",
       "</style>\n",
       "<table border=\"1\" class=\"dataframe\">\n",
       "  <thead>\n",
       "    <tr style=\"text-align: right;\">\n",
       "      <th>n</th>\n",
       "      <th>Calcium</th>\n",
       "    </tr>\n",
       "    <tr>\n",
       "      <th>j</th>\n",
       "      <th></th>\n",
       "    </tr>\n",
       "  </thead>\n",
       "  <tbody>\n",
       "    <tr>\n",
       "      <th>Bread</th>\n",
       "      <td>1510</td>\n",
       "    </tr>\n",
       "    <tr>\n",
       "      <th>Buns, Cakes And Biscuits</th>\n",
       "      <td>1300</td>\n",
       "    </tr>\n",
       "    <tr>\n",
       "      <th>Milk (fresh)</th>\n",
       "      <td>1130</td>\n",
       "    </tr>\n",
       "    <tr>\n",
       "      <th>Milk (dry or canned)</th>\n",
       "      <td>1130</td>\n",
       "    </tr>\n",
       "    <tr>\n",
       "      <th>Nuts</th>\n",
       "      <td>710</td>\n",
       "    </tr>\n",
       "    <tr>\n",
       "      <th>Eggs</th>\n",
       "      <td>530</td>\n",
       "    </tr>\n",
       "    <tr>\n",
       "      <th>Sweet Potatoes</th>\n",
       "      <td>430</td>\n",
       "    </tr>\n",
       "    <tr>\n",
       "      <th>Rice (paddy)</th>\n",
       "      <td>330</td>\n",
       "    </tr>\n",
       "    <tr>\n",
       "      <th>Cassava (flour)</th>\n",
       "      <td>310</td>\n",
       "    </tr>\n",
       "    <tr>\n",
       "      <th>Macaroni/Spaghetti</th>\n",
       "      <td>210</td>\n",
       "    </tr>\n",
       "  </tbody>\n",
       "</table>\n",
       "</div>"
      ],
      "text/plain": [
       "n                         Calcium\n",
       "j                                \n",
       "Bread                        1510\n",
       "Buns, Cakes And Biscuits     1300\n",
       "Milk (fresh)                 1130\n",
       "Milk (dry or canned)         1130\n",
       "Nuts                          710\n",
       "Eggs                          530\n",
       "Sweet Potatoes                430\n",
       "Rice (paddy)                  330\n",
       "Cassava (flour)               310\n",
       "Macaroni/Spaghetti            210"
      ]
     },
     "execution_count": 33,
     "metadata": {},
     "output_type": "execute_result"
    }
   ],
   "source": [
    "calcium_foods = fct_tanzania.sort_values('Calcium', ascending=False)[['Calcium']]\n",
    "calcium_foods[0:10]"
   ]
  },
  {
   "cell_type": "markdown",
   "id": "d96f1c7d-0ba8-404a-9c2a-0e370d02aed2",
   "metadata": {},
   "source": [
    "Okay! Because of nutritional fulfillment of Bread-based calcium, we decided to approach the problem with Milk, and then hopefully fish. We are still investigating if there are other foods/methods to do this better."
   ]
  },
  {
   "cell_type": "markdown",
   "id": "d3effe6c-af06-4ca3-b69b-952580e2fa12",
   "metadata": {},
   "source": [
    "### Estimating Nutrition for Changes in Price\n",
    "\n",
    "Here, I wrote out a function that takes as input a certain percent change in the price of a food, and that food as a string, and then calculates the predicted change in nutrition based on expenditure data (with demand.) This was very difficult, as indexing with the \\textttt{cfe} package was tricky, but I think I got it working. But please, poke around. I'm not 100% sure of the results, or if it's dispensing valid stuff, but thankfully, the nutrition levels DO change for increasing drops in the price of food. "
   ]
  },
  {
   "cell_type": "code",
   "execution_count": 34,
   "id": "6c86e0d1-6db5-4411-b918-3349450e8e47",
   "metadata": {},
   "outputs": [],
   "source": [
    "def my_prices(p0,p,j='food'): # use Ligon's my_prices function\n",
    "    \"\"\"\n",
    "    Change price of jth good to p0, holding other prices fixed.\n",
    "    \"\"\"\n",
    "    p = p.copy()\n",
    "    p.loc[j] = p0\n",
    "    return p"
   ]
  },
  {
   "cell_type": "code",
   "execution_count": 35,
   "id": "f2584ce1-aa02-49f7-a71a-ca190b016047",
   "metadata": {},
   "outputs": [],
   "source": [
    "def PriceDrop2NutritionRatio(price_drop_percentage, food = 'food'): # enter percentage price drop as float\n",
    "\n",
    "    # GETTING BUDGETS\n",
    "   \n",
    "    xhat = result_tanzania.predicted_expenditures() # get expenditures \n",
    "    xbar = xhat.groupby(['i','t','m']).sum() # set indices \n",
    "    x_budgets = xbar.quantile(np.linspace(.01,.99,20)) # get income budgets, here over 20 percetile ranks\n",
    "\n",
    "    # DROPPING PRICE OF FOOD\n",
    "    \n",
    "    p_drop = p_tanzania.copy() # copy original price table     \n",
    "    p_drop[food] = p_drop[food]*(1 - price_drop_percentage) # reduce price by percentage    \n",
    "    p_drop_mean = p_drop.mean() # average prices\n",
    "    pbar_dropped = p_drop_mean[result_tanzania.beta.index] # take ones we can run demands for\n",
    "    \n",
    "    # GETTING NUTRIENT RATIOS\n",
    "    \n",
    "    ratios = [] # make empty list to store ratio values\n",
    "    for x in x_budgets:\n",
    "        qhat = result_tanzania.demands(x, my_prices(pbar_dropped.loc[food], p = pbar_dropped, j = food)) # get quant demanded for new price\n",
    "        use = fct_tanzania.index.intersection(qhat.index) # set new index where FCT and quantity dataframes have same\n",
    "        nutrients = qhat[use]@fct_tanzania.loc[use,:] # matrix-multiply the quantity times the nutrients \n",
    "        z = z_tanzania[rdi_tanzania.columns.tolist()] # get RDI column names \n",
    "        hh_rdi = z@rdi_tanzania.T # get household RDIs per household\n",
    "        hh_rwi = hh_rdi*7 # set new RDI \n",
    "        use_nutrients = nutrients.index.intersection(hh_rwi.columns) # only use nutrients where index/columns same\n",
    "        nutrient_ratios = (nutrients[use_nutrients]/hh_rwi[use_nutrients]) # calculate ratio\n",
    "        ratios.append(nutrient_ratios.mean()['Calcium']) # append to ratios list \n",
    "    \n",
    "    return ratios"
   ]
  },
  {
   "cell_type": "markdown",
   "id": "f7dbd9da-0798-44ca-8503-85f5e178b445",
   "metadata": {},
   "source": [
    "Now, try out the function for price reductions of 0.01, 0.5: "
   ]
  },
  {
   "cell_type": "code",
   "execution_count": 36,
   "id": "fc124389-5606-4931-9113-155930c4bad1",
   "metadata": {},
   "outputs": [],
   "source": [
    "try_001 = np.array(PriceDrop2NutritionRatio(0.01, food = 'Milk (fresh)'))\n",
    "try_095 = np.array(PriceDrop2NutritionRatio(0.95, food = 'Milk (fresh)'))"
   ]
  },
  {
   "cell_type": "code",
   "execution_count": 37,
   "id": "5c049dc2-b58a-48ff-af55-ec6c1b4352c8",
   "metadata": {},
   "outputs": [
    {
     "data": {
      "text/plain": [
       "array([0.13058455, 0.18707965, 0.2177911 , 0.24542129, 0.27326271,\n",
       "       0.29363407, 0.31474076, 0.32840535, 0.34426931, 0.36047576,\n",
       "       0.37931018, 0.39750992, 0.41352062, 0.43470233, 0.46011315,\n",
       "       0.48651069, 0.52179798, 0.57816954, 0.65953758, 1.04866579])"
      ]
     },
     "execution_count": 37,
     "metadata": {},
     "output_type": "execute_result"
    }
   ],
   "source": [
    "try_001"
   ]
  },
  {
   "cell_type": "code",
   "execution_count": 38,
   "id": "b3f237be-9aee-4952-a403-bbbb62a1946f",
   "metadata": {},
   "outputs": [
    {
     "data": {
      "text/plain": [
       "array([0.2073412 , 0.29970024, 0.34977328, 0.39470097, 0.43983926,\n",
       "       0.47277599, 0.50681742, 0.52880931, 0.55429412, 0.58027677,\n",
       "       0.61040571, 0.63945072, 0.66494638, 0.69859613, 0.73884407,\n",
       "       0.78051681, 0.83600591, 0.92414262, 1.05029402, 1.63796214])"
      ]
     },
     "execution_count": 38,
     "metadata": {},
     "output_type": "execute_result"
    }
   ],
   "source": [
    "try_095"
   ]
  },
  {
   "cell_type": "code",
   "execution_count": 39,
   "id": "d9a5ae80-8f86-4907-b912-c134a0d51e51",
   "metadata": {},
   "outputs": [],
   "source": [
    "import seaborn as sns\n",
    "sns.set_theme()"
   ]
  },
  {
   "cell_type": "markdown",
   "id": "2ce2636a-5648-48d9-9edc-68adc305a4d8",
   "metadata": {},
   "source": [
    "Now let's see what this looks like. "
   ]
  },
  {
   "cell_type": "code",
   "execution_count": 52,
   "id": "642d28dc-13ae-4f37-b7f3-47b4e452e492",
   "metadata": {},
   "outputs": [
    {
     "data": {
      "image/png": "[encoded data removed]",
      "text/plain": [
       "<Figure size 3400x1200 with 2 Axes>"
      ]
     },
     "metadata": {},
     "output_type": "display_data"
    }
   ],
   "source": [
    "fig, ax = plt.subplots(1,2, figsize = (17,6), dpi=200)\n",
    "\n",
    "ax[0].hist(try_001, bins = 20, density = True, label = 'Calcium Distribution', color = 'darkorange')\n",
    "ax[0].set_title(f'Calcium Ratio @ 1% Price Reduction, Mean = {try_001.mean():.4f}'.format(str), fontsize = 15)\n",
    "ax[0].axvline(try_001.mean(), lw = 2, ls = 'dashed', color = 'royalblue', label = 'Average Ratio')\n",
    "ax[0].axvline(1, lw = 2, ls = 'dotted', color = 'red', label = 'Adequacy Threshold')\n",
    "ax[0].legend(facecolor = 'white')\n",
    "\n",
    "\n",
    "ax[1].hist(try_09, bins = 25, density = True, label = 'Calcium Distribution', color = 'darkorange')\n",
    "ax[1].set_title(f'Calcium Ratio @ 95% Price Reduction, Mean = {try_095.mean():.4f}'.format(str), fontsize = 15) # I know this is not realistic \n",
    "ax[1].axvline(try_09.mean(), lw = 2, ls = 'dashed', color = 'royalblue', label = 'Average Ratio')\n",
    "ax[1].axvline(1, lw = 2, ls = 'dotted', color = 'red', label = 'Adequacy Threshold')\n",
    "ax[1].legend(facecolor = 'white')\n",
    "\n",
    "plt.setp(ax, xlabel = 'Calcium Nourishment Ratio', ylabel = 'Density', xlim = (0, 1.6), ylim = (0,4))\n",
    "plt.savefig('Milk_Price_Reduction.png')"
   ]
  },
  {
   "cell_type": "markdown",
   "id": "5cfd16c7-6db9-4c17-9380-e5b7216a818d",
   "metadata": {},
   "source": [
    "Okay, so function seems like it's working! Now let's see what happens across all price changes, just to recheck if function is working and if this is even a good strategy... "
   ]
  },
  {
   "cell_type": "code",
   "execution_count": 54,
   "id": "c5303642-6abe-4aab-a43d-acc99f2b0844",
   "metadata": {},
   "outputs": [
    {
     "data": {
      "text/plain": [
       "array([0.  , 0.05, 0.1 , 0.15, 0.2 , 0.25, 0.3 , 0.35, 0.4 , 0.45, 0.5 ,\n",
       "       0.55, 0.6 , 0.65, 0.7 , 0.75, 0.8 , 0.85, 0.9 , 0.95])"
      ]
     },
     "execution_count": 54,
     "metadata": {},
     "output_type": "execute_result"
    }
   ],
   "source": [
    "price_drop_percentages = np.arange(0, 1, 0.05) # array to pass through as percentage changes in price\n",
    "price_drop_percentages"
   ]
  },
  {
   "cell_type": "markdown",
   "id": "884a5156-f09a-4646-bc15-1423328778ca",
   "metadata": {},
   "source": [
    "Now apply those price changes to foods with the function. This cell takes an extra second to run! "
   ]
  },
  {
   "cell_type": "code",
   "execution_count": 55,
   "id": "4b8c8b07-6599-4802-ae73-2f2e4b36b66e",
   "metadata": {},
   "outputs": [],
   "source": [
    "averages_milk = [] # empty list to store averages \n",
    "for i in range(len(price_drop_percentages)):\n",
    "    nutrition = np.array(PriceDrop2NutritionRatio(price_drop_percentages[i], food = 'Milk (fresh)')) # apply function to Milk \n",
    "    averaged = nutrition.mean() # take average \n",
    "    averages_milk.append(averaged) # append to list \n",
    "\n",
    "milk_avg_dict = {'Price Reduction %': price_drop_percentages, # define dictionary for DataFrame\n",
    "                'Average Nutrition Ratio': averages_milk}\n",
    "\n",
    "# averages_fish = [] # empty list to store averages \n",
    "# for i in range(len(price_drop_percentages)):\n",
    "#     nutrition = np.array(PriceDrop2NutritionRatio(price_drop_percentages[i], food = 'Fish (fresh)')) # apply function to Fish\n",
    "#     averaged = nutrition.mean() # take average \n",
    "#     averages_fish.append(averaged) # append to list\n",
    "\n",
    "# fish_avg_dict = {'Price Reduction %': price_drop_percentages, # define dictionary for DataFrame\n",
    "#                 'Average Nutrition Ratio': averages_fish}\n",
    "\n",
    "milk_avgs = pd.DataFrame(milk_avg_dict) # Create DataFrames\n",
    "fish_avgs = pd.DataFrame(fish_avg_dict)"
   ]
  },
  {
   "cell_type": "code",
   "execution_count": 17,
   "id": "959d9242-1d0c-4cae-aa46-8364c8f3518e",
   "metadata": {},
   "outputs": [],
   "source": [
    "averages_dried_fish = [] # empty list to store averages \n",
    "for i in range(len(price_drop_percentages)):\n",
    "    nutrition = np.array(PriceDrop2NutritionRatio(price_drop_percentages[i], food = 'Fish (dried)')) # apply function to Fish\n",
    "    averaged = nutrition.mean() # take average \n",
    "    averages_dried_fish.append(averaged) # append to list"
   ]
  },
  {
   "cell_type": "code",
   "execution_count": null,
   "id": "ebc396d0-6611-4ec6-84d7-3c1f2fecc799",
   "metadata": {},
   "outputs": [],
   "source": []
  },
  {
   "cell_type": "markdown",
   "id": "ae341f55-3f60-44eb-a277-cd8ef59f4276",
   "metadata": {},
   "source": [
    "Now, looking at average nutrition for these price changes: "
   ]
  },
  {
   "cell_type": "code",
   "execution_count": 19,
   "id": "f3d75f0c-698e-4893-b28f-143fe5502c5d",
   "metadata": {},
   "outputs": [
    {
     "data": {
      "text/html": [
       "<div>\n",
       "<style scoped>\n",
       "    .dataframe tbody tr th:only-of-type {\n",
       "        vertical-align: middle;\n",
       "    }\n",
       "\n",
       "    .dataframe tbody tr th {\n",
       "        vertical-align: top;\n",
       "    }\n",
       "\n",
       "    .dataframe thead th {\n",
       "        text-align: right;\n",
       "    }\n",
       "</style>\n",
       "<table border=\"1\" class=\"dataframe\">\n",
       "  <thead>\n",
       "    <tr style=\"text-align: right;\">\n",
       "      <th></th>\n",
       "      <th>Price Reduction %</th>\n",
       "      <th>Average Nutrition Ratio</th>\n",
       "    </tr>\n",
       "  </thead>\n",
       "  <tbody>\n",
       "    <tr>\n",
       "      <th>0</th>\n",
       "      <td>0.00</td>\n",
       "      <td>0.403317</td>\n",
       "    </tr>\n",
       "    <tr>\n",
       "      <th>1</th>\n",
       "      <td>0.05</td>\n",
       "      <td>0.405668</td>\n",
       "    </tr>\n",
       "    <tr>\n",
       "      <th>2</th>\n",
       "      <td>0.10</td>\n",
       "      <td>0.408184</td>\n",
       "    </tr>\n",
       "    <tr>\n",
       "      <th>3</th>\n",
       "      <td>0.15</td>\n",
       "      <td>0.410889</td>\n",
       "    </tr>\n",
       "    <tr>\n",
       "      <th>4</th>\n",
       "      <td>0.20</td>\n",
       "      <td>0.413810</td>\n",
       "    </tr>\n",
       "    <tr>\n",
       "      <th>5</th>\n",
       "      <td>0.25</td>\n",
       "      <td>0.416979</td>\n",
       "    </tr>\n",
       "    <tr>\n",
       "      <th>6</th>\n",
       "      <td>0.30</td>\n",
       "      <td>0.420440</td>\n",
       "    </tr>\n",
       "    <tr>\n",
       "      <th>7</th>\n",
       "      <td>0.35</td>\n",
       "      <td>0.424243</td>\n",
       "    </tr>\n",
       "    <tr>\n",
       "      <th>8</th>\n",
       "      <td>0.40</td>\n",
       "      <td>0.428455</td>\n",
       "    </tr>\n",
       "    <tr>\n",
       "      <th>9</th>\n",
       "      <td>0.45</td>\n",
       "      <td>0.433162</td>\n",
       "    </tr>\n",
       "    <tr>\n",
       "      <th>10</th>\n",
       "      <td>0.50</td>\n",
       "      <td>0.438480</td>\n",
       "    </tr>\n",
       "    <tr>\n",
       "      <th>11</th>\n",
       "      <td>0.55</td>\n",
       "      <td>0.444564</td>\n",
       "    </tr>\n",
       "    <tr>\n",
       "      <th>12</th>\n",
       "      <td>0.60</td>\n",
       "      <td>0.451635</td>\n",
       "    </tr>\n",
       "    <tr>\n",
       "      <th>13</th>\n",
       "      <td>0.65</td>\n",
       "      <td>0.460018</td>\n",
       "    </tr>\n",
       "    <tr>\n",
       "      <th>14</th>\n",
       "      <td>0.70</td>\n",
       "      <td>0.470213</td>\n",
       "    </tr>\n",
       "    <tr>\n",
       "      <th>15</th>\n",
       "      <td>0.75</td>\n",
       "      <td>0.483042</td>\n",
       "    </tr>\n",
       "    <tr>\n",
       "      <th>16</th>\n",
       "      <td>0.80</td>\n",
       "      <td>0.499987</td>\n",
       "    </tr>\n",
       "    <tr>\n",
       "      <th>17</th>\n",
       "      <td>0.85</td>\n",
       "      <td>0.524075</td>\n",
       "    </tr>\n",
       "    <tr>\n",
       "      <th>18</th>\n",
       "      <td>0.90</td>\n",
       "      <td>0.562950</td>\n",
       "    </tr>\n",
       "    <tr>\n",
       "      <th>19</th>\n",
       "      <td>0.95</td>\n",
       "      <td>0.645775</td>\n",
       "    </tr>\n",
       "  </tbody>\n",
       "</table>\n",
       "</div>"
      ],
      "text/plain": [
       "    Price Reduction %  Average Nutrition Ratio\n",
       "0                0.00                 0.403317\n",
       "1                0.05                 0.405668\n",
       "2                0.10                 0.408184\n",
       "3                0.15                 0.410889\n",
       "4                0.20                 0.413810\n",
       "5                0.25                 0.416979\n",
       "6                0.30                 0.420440\n",
       "7                0.35                 0.424243\n",
       "8                0.40                 0.428455\n",
       "9                0.45                 0.433162\n",
       "10               0.50                 0.438480\n",
       "11               0.55                 0.444564\n",
       "12               0.60                 0.451635\n",
       "13               0.65                 0.460018\n",
       "14               0.70                 0.470213\n",
       "15               0.75                 0.483042\n",
       "16               0.80                 0.499987\n",
       "17               0.85                 0.524075\n",
       "18               0.90                 0.562950\n",
       "19               0.95                 0.645775"
      ]
     },
     "execution_count": 19,
     "metadata": {},
     "output_type": "execute_result"
    }
   ],
   "source": [
    "milk_avgs"
   ]
  },
  {
   "cell_type": "code",
   "execution_count": 63,
   "id": "3828b4c7-5436-4b55-9509-22451eb5d9ac",
   "metadata": {},
   "outputs": [],
   "source": [
    "milk_avgs['Percentage Increase'] = (milk_avgs['Average Nutrition Ratio'] - milk_avgs['Average Nutrition Ratio'].loc[0])"
   ]
  },
  {
   "cell_type": "code",
   "execution_count": 64,
   "id": "dabdc6f1-85c2-4fce-934d-94d8c5768218",
   "metadata": {},
   "outputs": [
    {
     "data": {
      "text/html": [
       "<div>\n",
       "<style scoped>\n",
       "    .dataframe tbody tr th:only-of-type {\n",
       "        vertical-align: middle;\n",
       "    }\n",
       "\n",
       "    .dataframe tbody tr th {\n",
       "        vertical-align: top;\n",
       "    }\n",
       "\n",
       "    .dataframe thead th {\n",
       "        text-align: right;\n",
       "    }\n",
       "</style>\n",
       "<table border=\"1\" class=\"dataframe\">\n",
       "  <thead>\n",
       "    <tr style=\"text-align: right;\">\n",
       "      <th></th>\n",
       "      <th>Price Reduction %</th>\n",
       "      <th>Average Nutrition Ratio</th>\n",
       "      <th>Percentage Increase</th>\n",
       "    </tr>\n",
       "  </thead>\n",
       "  <tbody>\n",
       "    <tr>\n",
       "      <th>0</th>\n",
       "      <td>0.00</td>\n",
       "      <td>0.403317</td>\n",
       "      <td>0.000000</td>\n",
       "    </tr>\n",
       "    <tr>\n",
       "      <th>1</th>\n",
       "      <td>0.05</td>\n",
       "      <td>0.405668</td>\n",
       "      <td>0.002351</td>\n",
       "    </tr>\n",
       "    <tr>\n",
       "      <th>2</th>\n",
       "      <td>0.10</td>\n",
       "      <td>0.408184</td>\n",
       "      <td>0.004867</td>\n",
       "    </tr>\n",
       "    <tr>\n",
       "      <th>3</th>\n",
       "      <td>0.15</td>\n",
       "      <td>0.410889</td>\n",
       "      <td>0.007572</td>\n",
       "    </tr>\n",
       "    <tr>\n",
       "      <th>4</th>\n",
       "      <td>0.20</td>\n",
       "      <td>0.413810</td>\n",
       "      <td>0.010492</td>\n",
       "    </tr>\n",
       "    <tr>\n",
       "      <th>5</th>\n",
       "      <td>0.25</td>\n",
       "      <td>0.416979</td>\n",
       "      <td>0.013662</td>\n",
       "    </tr>\n",
       "    <tr>\n",
       "      <th>6</th>\n",
       "      <td>0.30</td>\n",
       "      <td>0.420440</td>\n",
       "      <td>0.017123</td>\n",
       "    </tr>\n",
       "    <tr>\n",
       "      <th>7</th>\n",
       "      <td>0.35</td>\n",
       "      <td>0.424243</td>\n",
       "      <td>0.020926</td>\n",
       "    </tr>\n",
       "    <tr>\n",
       "      <th>8</th>\n",
       "      <td>0.40</td>\n",
       "      <td>0.428455</td>\n",
       "      <td>0.025138</td>\n",
       "    </tr>\n",
       "    <tr>\n",
       "      <th>9</th>\n",
       "      <td>0.45</td>\n",
       "      <td>0.433162</td>\n",
       "      <td>0.029845</td>\n",
       "    </tr>\n",
       "    <tr>\n",
       "      <th>10</th>\n",
       "      <td>0.50</td>\n",
       "      <td>0.438480</td>\n",
       "      <td>0.035162</td>\n",
       "    </tr>\n",
       "    <tr>\n",
       "      <th>11</th>\n",
       "      <td>0.55</td>\n",
       "      <td>0.444564</td>\n",
       "      <td>0.041246</td>\n",
       "    </tr>\n",
       "    <tr>\n",
       "      <th>12</th>\n",
       "      <td>0.60</td>\n",
       "      <td>0.451635</td>\n",
       "      <td>0.048318</td>\n",
       "    </tr>\n",
       "    <tr>\n",
       "      <th>13</th>\n",
       "      <td>0.65</td>\n",
       "      <td>0.460018</td>\n",
       "      <td>0.056701</td>\n",
       "    </tr>\n",
       "    <tr>\n",
       "      <th>14</th>\n",
       "      <td>0.70</td>\n",
       "      <td>0.470213</td>\n",
       "      <td>0.066896</td>\n",
       "    </tr>\n",
       "    <tr>\n",
       "      <th>15</th>\n",
       "      <td>0.75</td>\n",
       "      <td>0.483042</td>\n",
       "      <td>0.079725</td>\n",
       "    </tr>\n",
       "    <tr>\n",
       "      <th>16</th>\n",
       "      <td>0.80</td>\n",
       "      <td>0.499987</td>\n",
       "      <td>0.096669</td>\n",
       "    </tr>\n",
       "    <tr>\n",
       "      <th>17</th>\n",
       "      <td>0.85</td>\n",
       "      <td>0.524075</td>\n",
       "      <td>0.120758</td>\n",
       "    </tr>\n",
       "    <tr>\n",
       "      <th>18</th>\n",
       "      <td>0.90</td>\n",
       "      <td>0.562950</td>\n",
       "      <td>0.159633</td>\n",
       "    </tr>\n",
       "    <tr>\n",
       "      <th>19</th>\n",
       "      <td>0.95</td>\n",
       "      <td>0.645775</td>\n",
       "      <td>0.242457</td>\n",
       "    </tr>\n",
       "  </tbody>\n",
       "</table>\n",
       "</div>"
      ],
      "text/plain": [
       "    Price Reduction %  Average Nutrition Ratio  Percentage Increase\n",
       "0                0.00                 0.403317             0.000000\n",
       "1                0.05                 0.405668             0.002351\n",
       "2                0.10                 0.408184             0.004867\n",
       "3                0.15                 0.410889             0.007572\n",
       "4                0.20                 0.413810             0.010492\n",
       "5                0.25                 0.416979             0.013662\n",
       "6                0.30                 0.420440             0.017123\n",
       "7                0.35                 0.424243             0.020926\n",
       "8                0.40                 0.428455             0.025138\n",
       "9                0.45                 0.433162             0.029845\n",
       "10               0.50                 0.438480             0.035162\n",
       "11               0.55                 0.444564             0.041246\n",
       "12               0.60                 0.451635             0.048318\n",
       "13               0.65                 0.460018             0.056701\n",
       "14               0.70                 0.470213             0.066896\n",
       "15               0.75                 0.483042             0.079725\n",
       "16               0.80                 0.499987             0.096669\n",
       "17               0.85                 0.524075             0.120758\n",
       "18               0.90                 0.562950             0.159633\n",
       "19               0.95                 0.645775             0.242457"
      ]
     },
     "execution_count": 64,
     "metadata": {},
     "output_type": "execute_result"
    }
   ],
   "source": [
    "milk_avgs"
   ]
  },
  {
   "cell_type": "code",
   "execution_count": 61,
   "id": "e56d223b-1b1c-4c06-920f-0a5437cb20a9",
   "metadata": {},
   "outputs": [],
   "source": [
    "def perc_to_pop(percentage): \n",
    "    delta_pop_Calc_nourished = (65.5*10**6)*percentage\n",
    "    return delta_pop_Calc_nourished"
   ]
  },
  {
   "cell_type": "code",
   "execution_count": 68,
   "id": "0efb8d91-80ad-40c8-b6d6-075191fc19e2",
   "metadata": {},
   "outputs": [
    {
     "data": {
      "text/plain": [
       "318788.5"
      ]
     },
     "execution_count": 68,
     "metadata": {},
     "output_type": "execute_result"
    }
   ],
   "source": [
    "perc_to_pop(0.004867)"
   ]
  },
  {
   "cell_type": "code",
   "execution_count": 67,
   "id": "90ab6553-2d6b-421c-b157-c6d273872a38",
   "metadata": {},
   "outputs": [
    {
     "data": {
      "text/plain": [
       "15880933.5"
      ]
     },
     "execution_count": 67,
     "metadata": {},
     "output_type": "execute_result"
    }
   ],
   "source": [
    "perc_to_pop(0.242457)"
   ]
  },
  {
   "cell_type": "markdown",
   "id": "f4be0ecb-2712-47c0-b245-b63b0dffe503",
   "metadata": {},
   "source": [
    "### That's it for now! Was going to make a bunch of histograms, but ran out of time. Thanks for your help! Looking for redundancies and ways to improve. "
   ]
  },
  {
   "cell_type": "code",
   "execution_count": 69,
   "id": "3e29512c-8e66-45d7-b22e-0901a728bb6b",
   "metadata": {},
   "outputs": [
    {
     "name": "stdout",
     "output_type": "stream",
     "text": [
      "Total Quantity of Milk Demanded = 666.7553191137685 [kg]\n"
     ]
    }
   ],
   "source": [
    "milk_exp = x_tanzania['Milk (fresh)'].sum()\n",
    "avg_milk_price = p_tanzania['Milk (fresh)'].mean()\n",
    "milk_quant = milk_exp/avg_milk_price\n",
    "print(f'Total Quantity of Milk Demanded = {milk_quant} [kg]'.format(str))"
   ]
  },
  {
   "cell_type": "code",
   "execution_count": 70,
   "id": "2e1b8f03-2f51-47fa-a604-f7039c8bc8fd",
   "metadata": {},
   "outputs": [
    {
     "name": "stdout",
     "output_type": "stream",
     "text": [
      "Total Quantity of Fish = 1924.05891527377 [kg]\n"
     ]
    }
   ],
   "source": [
    "fish_exp = x_tanzania['Fish (fresh)'].sum()\n",
    "avg_fish_price = p_tanzania['Fish (fresh)'].mean()\n",
    "fish_quant = fish_exp/avg_fish_price\n",
    "print(f'Total Quantity of Fish = {fish_quant} [kg]'.format(str))"
   ]
  },
  {
   "cell_type": "markdown",
   "id": "bdaf5c0d-ff1b-4d04-b8c5-65a413ed3f59",
   "metadata": {},
   "source": [
    "#### Some unit/currency info: \n",
    "- Tanzanian currency are Shillings\n",
    "- One Shilling = 0.00038 USD\n",
    "- Milk to import: https://www.alibaba.com/product-detail/Chinese-supplier-wholesales-whole-milk-Premium_1601020537580.html\n",
    "  - This milk is \\$1.52/can for > 500 orders.\n",
    "  - Each can contains 410g of milk = 0.41 kg\n",
    "  - To double the quantity demanded of fresh milk in kg, we would need to import 1627 cans of milk.\n",
    "  - This equates to 1627 x 1.52 = $2472 USD, or 6504930 Tanzanian shillings. \n"
   ]
  },
  {
   "cell_type": "code",
   "execution_count": 135,
   "id": "6618609a-68d5-4762-8b91-0eafea08c497",
   "metadata": {},
   "outputs": [
    {
     "data": {
      "text/plain": [
       "17303.113647245114"
      ]
     },
     "execution_count": 135,
     "metadata": {},
     "output_type": "execute_result"
    }
   ],
   "source": [
    "(milk_quant/0.41)*1.52*7"
   ]
  },
  {
   "cell_type": "code",
   "execution_count": 136,
   "id": "3ff4641f-aa3c-4222-a8a3-b7206dabbc2e",
   "metadata": {},
   "outputs": [
    {
     "data": {
      "text/plain": [
       "45534509.59801345"
      ]
     },
     "execution_count": 136,
     "metadata": {},
     "output_type": "execute_result"
    }
   ],
   "source": [
    "17303.113647245114/0.00038"
   ]
  },
  {
   "cell_type": "code",
   "execution_count": 137,
   "id": "053a495b-bf02-4c57-8e84-c1aaca40ef11",
   "metadata": {},
   "outputs": [
    {
     "data": {
      "text/plain": [
       "75730000000.0"
      ]
     },
     "execution_count": 137,
     "metadata": {},
     "output_type": "execute_result"
    }
   ],
   "source": [
    "75.73*10**9"
   ]
  },
  {
   "cell_type": "code",
   "execution_count": 147,
   "id": "2a8cade2-3cae-43eb-9c5d-8ad88d030cbb",
   "metadata": {},
   "outputs": [
    {
     "data": {
      "text/plain": [
       "0.06012743905719457"
      ]
     },
     "execution_count": 147,
     "metadata": {},
     "output_type": "execute_result"
    }
   ],
   "source": [
    "(45534509.59801345/75730000000)*100"
   ]
  },
  {
   "cell_type": "code",
   "execution_count": null,
   "id": "daac8dae-d12d-4846-8a43-a47f1a02efaa",
   "metadata": {},
   "outputs": [],
   "source": []
  },
  {
   "cell_type": "code",
   "execution_count": 25,
   "id": "1ac59627-71bb-46e1-bf08-c7836018df4a",
   "metadata": {},
   "outputs": [
    {
     "data": {
      "text/plain": [
       "19305.555556666666"
      ]
     },
     "execution_count": 25,
     "metadata": {},
     "output_type": "execute_result"
    }
   ],
   "source": [
    "p_tanzania['Milk (dry or canned)'].mean()"
   ]
  },
  {
   "cell_type": "code",
   "execution_count": 26,
   "id": "daa70ba2-a5e0-4798-808b-a7975107930f",
   "metadata": {},
   "outputs": [
    {
     "data": {
      "text/plain": [
       "t          m                   \n",
       "2019-20    Dar Es Salaam           2000.000000\n",
       "2019-20.1  Mainland Other Urban    1266.666667\n",
       "2019-20.2  Mainland Rural          1000.000000\n",
       "2019-20.3  Zanzibar                2000.000000\n",
       "Name: Milk (fresh), dtype: float64"
      ]
     },
     "execution_count": 26,
     "metadata": {},
     "output_type": "execute_result"
    }
   ],
   "source": [
    "p_tanzania['Milk (fresh)']"
   ]
  },
  {
   "cell_type": "code",
   "execution_count": 27,
   "id": "35436210-f5f3-47d2-a3a9-9e237d8d2b1a",
   "metadata": {},
   "outputs": [
    {
     "data": {
      "text/plain": [
       "68822.91667"
      ]
     },
     "execution_count": 27,
     "metadata": {},
     "output_type": "execute_result"
    }
   ],
   "source": [
    "x_tanzania['Milk (dry or canned)'].sum()"
   ]
  },
  {
   "cell_type": "code",
   "execution_count": 28,
   "id": "130f5a44-0ab2-4300-8a95-4c6831e28438",
   "metadata": {},
   "outputs": [
    {
     "data": {
      "text/plain": [
       "3.5649280575214433"
      ]
     },
     "execution_count": 28,
     "metadata": {},
     "output_type": "execute_result"
    }
   ],
   "source": [
    "68822.91667/19305.555556666666"
   ]
  },
  {
   "cell_type": "code",
   "execution_count": 29,
   "id": "aadf4331-cab8-4aaf-97a6-1b76399e0d5b",
   "metadata": {},
   "outputs": [
    {
     "data": {
      "text/plain": [
       "1044583.3333338001"
      ]
     },
     "execution_count": 29,
     "metadata": {},
     "output_type": "execute_result"
    }
   ],
   "source": [
    "x_tanzania['Milk (fresh)'].sum()"
   ]
  },
  {
   "cell_type": "code",
   "execution_count": 76,
   "id": "de8c7df6-0eb9-482f-ab7a-d9f770f65969",
   "metadata": {},
   "outputs": [],
   "source": [
    "x_tanzania_Milk_doubled = x_tanzania.copy()"
   ]
  },
  {
   "cell_type": "code",
   "execution_count": 115,
   "id": "c1abb0c1-ed7c-4746-8cdd-a58a8bc590be",
   "metadata": {},
   "outputs": [],
   "source": [
    "x_tanzania_Milk_doubled['Milk (fresh)'] = x_tanzania['Milk (fresh)']*8"
   ]
  },
  {
   "cell_type": "code",
   "execution_count": 116,
   "id": "bd878ba6-31b1-4c99-9116-0e3b1fe0226e",
   "metadata": {},
   "outputs": [],
   "source": [
    "# Running the CFE regression with the doubled expenditures\n",
    "result_tanzania_doubled = cfe.Regression(y=np.log(x_tanzania_Milk_doubled.stack()), d=z_tanzania)"
   ]
  },
  {
   "cell_type": "code",
   "execution_count": 133,
   "id": "b164c160-d925-4843-b5a0-e30725ebc08c",
   "metadata": {},
   "outputs": [
    {
     "data": {
      "image/png": "[encoded data removed]",
      "text/plain": [
       "<Figure size 1800x1200 with 1 Axes>"
      ]
     },
     "metadata": {},
     "output_type": "display_data"
    }
   ],
   "source": [
    "xhat = result_tanzania_doubled.predicted_expenditures()\n",
    "\n",
    "qhat = (xhat.unstack('j')/p_tanzania).dropna(how='all')\n",
    "\n",
    "qhat = qhat.loc[:,qhat.count()>0]\n",
    "\n",
    "use = fct_tanzania.index.intersection(qhat.columns)\n",
    "\n",
    "nutrients = qhat[use]@fct_tanzania.loc[use,:]\n",
    "nutrients.mean() \n",
    "\n",
    "z = z_tanzania[rdi_tanzania.columns.tolist()]\n",
    "\n",
    "hh_rdi = z@rdi_tanzania.T\n",
    "\n",
    "hh_rwi = hh_rdi*7\n",
    "\n",
    "use_nutrients = nutrients.columns.intersection(hh_rwi.columns)\n",
    "\n",
    "nutrient_ratio_tanzania_doubled = (nutrients[use_nutrients]/hh_rwi[use_nutrients]).dropna()\n",
    "\n",
    "plt.figure(figsize=(9, 6), dpi=200)\n",
    "\n",
    "# Plotting the normalized histogram for Uganda's energy nutrient ratio\n",
    "plt.hist(nutrient_ratio_tanzania['Calcium'], bins=20, alpha=0.7, label='Original Calcium Nourishment', color = 'darkorange', density=True)\n",
    "\n",
    "# Plotting the normalized histogram for Tanzania's energy nutrient ratio\n",
    "plt.axvline(np.mean(nutrient_ratio_tanzania_doubled['Calcium']), ls = 'dashed', alpha = 0.5, color = 'green', label = 'New Average = 1')\n",
    "plt.hist(nutrient_ratio_tanzania_doubled['Calcium'], bins=55, alpha = 0.7, label='Milk Expenditures x 8', color = 'green', density=True)\n",
    "plt.title('Calcium Nourishment, Multiplying Milk Expenditures', fontsize = 18)\n",
    "\n",
    "plt.xlabel('Calcium Nutrient Ratio')\n",
    "plt.ylabel('Density')  # Adjusting label to 'Density' for clarity\n",
    "plt.legend(loc='upper right', facecolor = 'white')\n",
    "\n",
    "plt.savefig('milk_exp_multiplied.png')\n",
    "plt.show()"
   ]
  },
  {
   "cell_type": "code",
   "execution_count": 140,
   "id": "6b861bed-7458-415c-ba4a-62baf8cf8412",
   "metadata": {},
   "outputs": [],
   "source": [
    "def PriceDrop2NutritionRatio_multiplied(price_drop_percentage, food = 'food'): # enter percentage price drop as float\n",
    "\n",
    "    # GETTING BUDGETS\n",
    "   \n",
    "    xhat = result_tanzania_doubled.predicted_expenditures() # get expenditures \n",
    "    xbar = xhat.groupby(['i','t','m']).sum() # set indices \n",
    "    x_budgets = xbar.quantile(np.linspace(.01,.99,20)) # get income budgets, here over 20 percetile ranks\n",
    "\n",
    "    # DROPPING PRICE OF FOOD\n",
    "    \n",
    "    p_drop = p_tanzania.copy() # copy original price table     \n",
    "    p_drop[food] = p_drop[food]*(1 - price_drop_percentage) # reduce price by percentage    \n",
    "    p_drop_mean = p_drop.mean() # average prices\n",
    "    pbar_dropped = p_drop_mean[result_tanzania.beta.index] # take ones we can run demands for\n",
    "    \n",
    "    # GETTING NUTRIENT RATIOS\n",
    "    \n",
    "    ratios = [] # make empty list to store ratio values\n",
    "    for x in x_budgets:\n",
    "        qhat = result_tanzania.demands(x, my_prices(pbar_dropped.loc[food], p = pbar_dropped, j = food)) # get quant demanded for new price\n",
    "        use = fct_tanzania.index.intersection(qhat.index) # set new index where FCT and quantity dataframes have same\n",
    "        nutrients = qhat[use]@fct_tanzania.loc[use,:] # matrix-multiply the quantity times the nutrients \n",
    "        z = z_tanzania[rdi_tanzania.columns.tolist()] # get RDI column names \n",
    "        hh_rdi = z@rdi_tanzania.T # get household RDIs per household\n",
    "        hh_rwi = hh_rdi*7 # set new RDI \n",
    "        use_nutrients = nutrients.index.intersection(hh_rwi.columns) # only use nutrients where index/columns same\n",
    "        nutrient_ratios = (nutrients[use_nutrients]/hh_rwi[use_nutrients]) # calculate ratio\n",
    "        ratios.append(nutrient_ratios.mean()['Calcium']) # append to ratios list \n",
    "    \n",
    "    return ratios"
   ]
  },
  {
   "cell_type": "code",
   "execution_count": 145,
   "id": "652987cd-142b-4989-8437-d6ea90f87d51",
   "metadata": {},
   "outputs": [],
   "source": [
    "pp09 = PriceDrop2NutritionRatio_multiplied(0.9, food = 'Milk (fresh)')"
   ]
  },
  {
   "cell_type": "code",
   "execution_count": 146,
   "id": "6c61f187-e978-4110-91ac-d6a0409f11f3",
   "metadata": {},
   "outputs": [
    {
     "data": {
      "text/plain": [
       "0.7177893824373788"
      ]
     },
     "execution_count": 146,
     "metadata": {},
     "output_type": "execute_result"
    }
   ],
   "source": [
    "np.mean(pp09)"
   ]
  },
  {
   "cell_type": "code",
   "execution_count": null,
   "id": "3a611759-0460-48e9-bea7-c61ad61df92d",
   "metadata": {},
   "outputs": [],
   "source": []
  }
 ],
 "metadata": {
  "kernelspec": {
   "display_name": "Python 3 (ipykernel)",
   "language": "python",
   "name": "python3"
  },
  "language_info": {
   "codemirror_mode": {
    "name": "ipython",
    "version": 3
   },
   "file_extension": ".py",
   "mimetype": "text/x-python",
   "name": "python",
   "nbconvert_exporter": "python",
   "pygments_lexer": "ipython3",
   "version": "3.9.15"
  }
 },
 "nbformat": 4,
 "nbformat_minor": 5
}
